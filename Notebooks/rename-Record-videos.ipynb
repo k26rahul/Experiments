{
 "cells": [
  {
   "cell_type": "code",
   "execution_count": 2,
   "metadata": {},
   "outputs": [],
   "source": [
    "import os\n",
    "\n",
    "# Folder containing the video files\n",
    "folder_path = r'C:\\Users\\k26ra\\Desktop\\r7-bckp\\Screen rec - clipped\\final'\n",
    "\n",
    "# Iterate over files in the folder\n",
    "for filename in os.listdir(folder_path):\n",
    "  if filename.startswith(\"Record\"):  # Only process files starting with \"Record\"\n",
    "    new_name = filename[:26] + \".mp4\"  # Keep the first 26 characters and add \".mp4\"\n",
    "    old_file = os.path.join(folder_path, filename)\n",
    "    new_file = os.path.join(folder_path, new_name)\n",
    "    os.rename(old_file, new_file)"
   ]
  }
 ],
 "metadata": {
  "kernelspec": {
   "display_name": "Python 3",
   "language": "python",
   "name": "python3"
  },
  "language_info": {
   "codemirror_mode": {
    "name": "ipython",
    "version": 3
   },
   "file_extension": ".py",
   "mimetype": "text/x-python",
   "name": "python",
   "nbconvert_exporter": "python",
   "pygments_lexer": "ipython3",
   "version": "3.12.6"
  }
 },
 "nbformat": 4,
 "nbformat_minor": 2
}
