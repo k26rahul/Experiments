{
 "cells": [
  {
   "cell_type": "code",
   "execution_count": 12,
   "metadata": {},
   "outputs": [
    {
     "name": "stdout",
     "output_type": "stream",
     "text": [
      "A 2\n",
      "B 1 3\n",
      "C \n",
      "D \n",
      "E \n"
     ]
    }
   ],
   "source": [
    "def processQuery(n, p, query):\n",
    "  process_stages = {str(process): 'A' for process in range(1, p+1)}\n",
    "  valid_moves = {\n",
    "      'A': ['B'],\n",
    "      'B': ['C'],\n",
    "      'C': ['B', 'D', 'E'],\n",
    "      'D': ['B'],\n",
    "      'E': [],\n",
    "  }\n",
    "\n",
    "  for q in query:\n",
    "    move, process = q.split()\n",
    "    source, dest = move[0], move[1]\n",
    "    if process_stages[process] != source or dest not in valid_moves[source]:\n",
    "      continue\n",
    "    process_stages[process] = dest\n",
    "\n",
    "  final = {\n",
    "      'A': [],\n",
    "      'B': [],\n",
    "      'C': [],\n",
    "      'D': [],\n",
    "      'E': [],\n",
    "  }\n",
    "\n",
    "  for process, stage in process_stages.items():\n",
    "    final[stage].append(process)\n",
    "\n",
    "  for stage, processes in final.items():\n",
    "    print(stage, ' '.join(processes))\n",
    "\n",
    "\n",
    "processQuery(3, 3, ['AB 1', 'CD 1', 'AB 3'])"
   ]
  },
  {
   "cell_type": "code",
   "execution_count": 19,
   "metadata": {},
   "outputs": [
    {
     "data": {
      "text/plain": [
       "'IDMKP'"
      ]
     },
     "execution_count": 19,
     "metadata": {},
     "output_type": "execute_result"
    }
   ],
   "source": [
    "def encode_word(word):\n",
    "  encoded = ''\n",
    "  for i in range(len(word)):\n",
    "    char = word[i]\n",
    "    if i % 2 == 0:\n",
    "      if char == 'Z':\n",
    "        encoded += 'A'\n",
    "        continue\n",
    "      encoded += chr(ord(char)+1)\n",
    "    else:\n",
    "      if char == 'A':\n",
    "        encoded += 'Z'\n",
    "        continue\n",
    "      encoded += chr(ord(char)-1)\n",
    "  return encoded\n",
    "\n",
    "\n",
    "encode_word('HELLO')  # IDMKP"
   ]
  },
  {
   "cell_type": "code",
   "execution_count": 16,
   "metadata": {},
   "outputs": [
    {
     "data": {
      "text/plain": [
       "65"
      ]
     },
     "execution_count": 16,
     "metadata": {},
     "output_type": "execute_result"
    },
    {
     "data": {
      "text/plain": [
       "90"
      ]
     },
     "execution_count": 16,
     "metadata": {},
     "output_type": "execute_result"
    }
   ],
   "source": [
    "ord('A')\n",
    "ord('Z')"
   ]
  }
 ],
 "metadata": {
  "kernelspec": {
   "display_name": "Python 3",
   "language": "python",
   "name": "python3"
  },
  "language_info": {
   "codemirror_mode": {
    "name": "ipython",
    "version": 3
   },
   "file_extension": ".py",
   "mimetype": "text/x-python",
   "name": "python",
   "nbconvert_exporter": "python",
   "pygments_lexer": "ipython3",
   "version": "3.12.6"
  }
 },
 "nbformat": 4,
 "nbformat_minor": 2
}
